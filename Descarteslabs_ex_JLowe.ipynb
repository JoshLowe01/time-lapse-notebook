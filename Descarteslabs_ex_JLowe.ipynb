{
 "cells": [
  {
   "cell_type": "markdown",
   "metadata": {},
   "source": [
    "# USING DESCARTES LABS \n",
    "## Ipython notebook\n",
    "## Joshua Lowe"
   ]
  },
  {
   "cell_type": "markdown",
   "metadata": {},
   "source": [
    "### To download descartes labs go to http://descartes-labs-python.readthedocs.io/en/latest/quickstart.html#installation. \n",
    "Make sure you use pip install and NOT conda install. \n",
    "\n",
    "pip install descarteslabs <br />\n",
    "descarteslabs auth login <br />\n",
    "    --> Then go onto the link it provides, copy the code the give you and paste it back into the terminal. You may need to create an account."
   ]
  },
  {
   "cell_type": "code",
   "execution_count": 5,
   "metadata": {},
   "outputs": [],
   "source": [
    "\n",
    "import descarteslabs as dl\n",
    "import matplotlib.pyplot as plt\n",
    "import itertools\n",
    "import imageio\n",
    "import datetime"
   ]
  },
  {
   "cell_type": "markdown",
   "metadata": {},
   "source": [
    "Define your AOI<br />\n",
    "go to http://geojson.io/and draw your AOI. <br />\n",
    "I had to delete some of the lines above the coords to make it work"
   ]
  },
  {
   "cell_type": "code",
   "execution_count": 6,
   "metadata": {
    "collapsed": true,
    "jupyter": {
     "outputs_hidden": true
    }
   },
   "outputs": [],
   "source": [
    "aoi ={\n",
    "        \"type\": \"Polygon\",\n",
    "        \"coordinates\": [\n",
    "          [\n",
    "            [\n",
    "              -70.76568603515625,\n",
    "              -33.15796025046729\n",
    "            ],\n",
    "            [\n",
    "              -70.69358825683594,\n",
    "              -33.15796025046729\n",
    "            ],\n",
    "            [\n",
    "              -70.69358825683594,\n",
    "              -33.10477178931552\n",
    "            ],\n",
    "            [\n",
    "              -70.76568603515625,\n",
    "              -33.10477178931552\n",
    "            ],\n",
    "            [\n",
    "              -70.76568603515625,\n",
    "              -33.15796025046729\n",
    "            ]\n",
    "          ]\n",
    "        ]\n",
    "}"
   ]
  },
  {
   "cell_type": "markdown",
   "metadata": {},
   "source": [
    "List of avainable satelietes"
   ]
  },
  {
   "cell_type": "code",
   "execution_count": 7,
   "metadata": {},
   "outputs": [
    {
     "data": {
      "text/plain": [
       "['landsat:LC08:01:RT:TOAR',\n",
       " 'landsat:LC08:01:T1:TOAR',\n",
       " 'landsat:LC08:01:T2:TOAR',\n",
       " 'landsat:LC08:PRE:LaSRC',\n",
       " 'landsat:LC08:PRE:TOAR',\n",
       " 'landsat:LE07:01:RT:TOAR',\n",
       " 'landsat:LE07:01:T1:TOAR',\n",
       " 'landsat:LE07:01:T2:TOAR',\n",
       " 'landsat:LE07:PRE:TOAR',\n",
       " 'landsat:LT04:PRE:TOAR',\n",
       " 'landsat:LT05:PRE:TOAR',\n",
       " 'modis:09:CREFL',\n",
       " 'sentinel-1:GRD',\n",
       " 'sentinel-2:L1C',\n",
       " 'sentinel-3:OLCI_RGB',\n",
       " 'srtm:GL1003',\n",
       " 'texas-orthoimagery:v0',\n",
       " 'usda:cdl',\n",
       " 'usda:naip:rgbn',\n",
       " 'usda:naip:rgbn:v1']"
      ]
     },
     "execution_count": 7,
     "metadata": {},
     "output_type": "execute_result"
    }
   ],
   "source": [
    "dl.metadata.available_products()"
   ]
  },
  {
   "cell_type": "markdown",
   "metadata": {},
   "source": [
    "call your satelite over the AOI and state the time range"
   ]
  },
  {
   "cell_type": "code",
   "execution_count": 8,
   "metadata": {},
   "outputs": [
    {
     "data": {
      "text/plain": [
       "73"
      ]
     },
     "execution_count": 8,
     "metadata": {},
     "output_type": "execute_result"
    }
   ],
   "source": [
    "fc = dl.metadata.search(products=['sentinel-2:L1C'], geom=aoi, start_time='now-46M', limit=1000)\n",
    "len(fc['features'])"
   ]
  },
  {
   "cell_type": "markdown",
   "metadata": {},
   "source": [
    "Have a look at the avainable bands and properties"
   ]
  },
  {
   "cell_type": "code",
   "execution_count": 9,
   "metadata": {},
   "outputs": [],
   "source": [
    "avainable_bands = dl.metadata.bands('sentinel-2:L1C')\n",
    "avainable_features = fc['features']\n",
    "#print(avainable_bands) #output is very long\n",
    "#print(avainable_features)"
   ]
  },
  {
   "cell_type": "markdown",
   "metadata": {},
   "source": [
    "Filter your satelite images, i did this for cloud cover\n",
    "Note: the list of properties changes from satelite to satelite so have a look in the properties"
   ]
  },
  {
   "cell_type": "code",
   "execution_count": 10,
   "metadata": {
    "collapsed": true,
    "jupyter": {
     "outputs_hidden": true
    }
   },
   "outputs": [],
   "source": [
    "items = itertools.groupby(\n",
    "        [f for f in fc['features'] if f['properties']['cloud_fraction'] < 0.1],\n",
    "        key=lambda f: f['properties']['acquired'][:10])"
   ]
  },
  {
   "cell_type": "markdown",
   "metadata": {},
   "source": [
    "Plots each satelite image that meets the criteria as defiend above <br />\n",
    "note: only one band can be plotted at a time"
   ]
  },
  {
   "cell_type": "code",
   "execution_count": 11,
   "metadata": {},
   "outputs": [
    {
     "name": "stdout",
     "output_type": "stream",
     "text": [
      "2016-03-05\n",
      "2016-04-04\n",
      "2016-11-10\n",
      "2016-12-30\n",
      "2017-02-18\n",
      "2017-04-19\n"
     ]
    }
   ],
   "source": [
    "full_arr = None\n",
    "fig, ax = plt.subplots(figsize=[16,16])\n",
    "frames = []\n",
    "for day, group in items:\n",
    "    print(day)\n",
    "    arr, meta = dl.raster.ndarray([g['id'] for g in group], srs=\"EPSG:32720\",\n",
    "                                   bands=['red'], cutline=aoi, resolution=20, align_pixels=True) #\n",
    "    if full_arr is None:\n",
    "        full_arr = arr.copy()\n",
    "        \n",
    "    mask = arr != 0\n",
    "    full_arr[mask] = arr[mask]\n",
    "    im = plt.imshow(full_arr)\n",
    "    t=plt.text(30,full_arr.shape[0]-40, day, color='red', size='large')\n",
    "    ax.xaxis.set_ticks([])\n",
    "    ax.yaxis.set_ticks([])\n",
    "    fname = \"%s_demo.png\" % day\n",
    "    out = plt.savefig(fname, bbox_inches='tight')\n",
    "    t.remove()\n",
    "    frames.append(fname)\n",
    "del fig, ax"
   ]
  },
  {
   "cell_type": "markdown",
   "metadata": {},
   "source": [
    "Function that collates all the images just creadted into a gif"
   ]
  },
  {
   "cell_type": "code",
   "execution_count": 12,
   "metadata": {
    "collapsed": true,
    "jupyter": {
     "outputs_hidden": true
    }
   },
   "outputs": [],
   "source": [
    "def create_gif(filenames, duration):\n",
    "    images = []\n",
    "    for filename in filenames:\n",
    "        images.append(imageio.imread(filename))\n",
    "    output_file = 'Gif-%s.gif' % datetime.datetime.now().strftime('%Y-%M-%d')\n",
    "    imageio.mimsave(output_file, images, duration=duration)\n",
    "    \n",
    "create_gif(frames, duration=0.4)"
   ]
  },
  {
   "cell_type": "markdown",
   "metadata": {},
   "source": [
    "Finished!"
   ]
  }
 ],
 "metadata": {
  "kernelspec": {
   "display_name": "Python 3",
   "language": "python",
   "name": "python3"
  },
  "language_info": {
   "codemirror_mode": {
    "name": "ipython",
    "version": 3
   },
   "file_extension": ".py",
   "mimetype": "text/x-python",
   "name": "python",
   "nbconvert_exporter": "python",
   "pygments_lexer": "ipython3",
   "version": "3.7.7"
  }
 },
 "nbformat": 4,
 "nbformat_minor": 4
}
